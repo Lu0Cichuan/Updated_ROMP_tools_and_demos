{
 "cells": [
  {
   "cell_type": "code",
   "execution_count": 1,
   "metadata": {},
   "outputs": [],
   "source": [
    "import numpy as np\n",
    "import matplotlib.pyplot as plt"
   ]
  },
  {
   "cell_type": "code",
   "execution_count": 2,
   "metadata": {},
   "outputs": [],
   "source": [
    "def get_image_pixel(road,start,stop,step=1,drop=1):\n",
    "    \"\"\"\n",
    "    road:文件路径,字符串类型\n",
    "    start:起始图片位置，0是第一张\n",
    "    stop:最后一张,不包含在内\n",
    "    step:步幅，可能需要用，还是提供了\n",
    "    drop:文件的前多少行不是数据\n",
    "    \"\"\"\n",
    "    with open(road) as f:\n",
    "        for _ in range(drop+start):\n",
    "            f.readline()\n",
    "        res=[]\n",
    "        for _ in range(start,stop,step):\n",
    "            dat_str=f.readline().split(',')\n",
    "            dat_int=[int(i) for i in dat_str]\n",
    "            res.append(np.array(dat_int))\n",
    "    label_list=[]\n",
    "    image_list=[]\n",
    "    for l in res:\n",
    "        label_list.append(l[0])\n",
    "        image_list.append(l[1:])\n",
    "    return label_list,image_list"
   ]
  },
  {
   "cell_type": "code",
   "execution_count": 4,
   "metadata": {},
   "outputs": [
    {
     "data": {
      "image/png": "[encoded data removed]",
      "text/plain": [
       "<Figure size 640x480 with 1 Axes>"
      ]
     },
     "metadata": {},
     "output_type": "display_data"
    }
   ],
   "source": [
    "road='train.csv'\n",
    "labels,images=get_image_pixel(road,0,500)\n",
    "\"\"\"\n",
    "1.start务必小于stop,因为这个读取是文件一行一行的读取的，真做逆序还是先输出再做\n",
    "2.文件前一行是非数据，如果不是1，需要传入drop参数矫正\n",
    "3.文件的数据如果是浮点的话，会出问题，现在先不改这个\n",
    "\"\"\"\n",
    "plt.imshow(images[1].reshape(28,28),cmap='gray')\n",
    "plt.show()"
   ]
  }
 ],
 "metadata": {
  "kernelspec": {
   "display_name": "base",
   "language": "python",
   "name": "python3"
  },
  "language_info": {
   "codemirror_mode": {
    "name": "ipython",
    "version": 3
   },
   "file_extension": ".py",
   "mimetype": "text/x-python",
   "name": "python",
   "nbconvert_exporter": "python",
   "pygments_lexer": "ipython3",
   "version": "3.9.13"
  }
 },
 "nbformat": 4,
 "nbformat_minor": 2
}
